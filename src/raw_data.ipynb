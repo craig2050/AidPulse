{
 "cells": [
  {
   "cell_type": "code",
   "execution_count": 8,
   "metadata": {},
   "outputs": [],
   "source": [
    "import pandas as pd\n",
    "import duckdb\n",
    "from airflow import DAG\n",
    "from airflow.operators.python import PythonOperator\n",
    "from datetime import datetime"
   ]
  },
  {
   "cell_type": "code",
   "execution_count": 4,
   "metadata": {},
   "outputs": [
    {
     "name": "stdout",
     "output_type": "stream",
     "text": [
      "Parquet file created\n"
     ]
    }
   ],
   "source": [
    "df = pd.read_csv('01_datasets/01_calfire_incidents.csv')\n",
    "df.to_parquet('01_datasets/01_calfire_incidents.parquet', engine=\"pyarrow\",index=False)\n",
    "\n",
    "print(\"Parquet file created\")"
   ]
  },
  {
   "cell_type": "code",
   "execution_count": 7,
   "metadata": {},
   "outputs": [
    {
     "name": "stdout",
     "output_type": "stream",
     "text": [
      "   incident_name incident_is_final incident_date_last_update  \\\n",
      "0    Bridge Fire                 Y      2018-01-09T13:46:00Z   \n",
      "1      Pala Fire                 Y      2020-09-16T14:07:35Z   \n",
      "2     River Fire                 Y      2022-10-24T11:39:23Z   \n",
      "3  Fawnskin Fire                 Y      2013-04-22T09:00:00Z   \n",
      "4      Gold Fire                 Y      2013-05-01T07:00:00Z   \n",
      "\n",
      "  incident_date_created          incident_administrative_unit  \\\n",
      "0  2017-10-31T11:22:00Z       Shasta-Trinity National Forest    \n",
      "1  2009-05-24T14:56:00Z               CAL FIRE San Diego Unit   \n",
      "2  2013-02-24T08:16:00Z          CAL FIRE San Bernardino Unit   \n",
      "3  2013-04-20T17:30:00Z        San Bernardino National Forest   \n",
      "4  2013-04-30T12:59:00Z  CAL FIRE Madera-Mariposa-Merced Unit   \n",
      "\n",
      "   incident_administrative_unit_url incident_county  \\\n",
      "0                               NaN          Shasta   \n",
      "1                               NaN       San Diego   \n",
      "2                               NaN            Inyo   \n",
      "3                               NaN  San Bernardino   \n",
      "4                               NaN          Madera   \n",
      "\n",
      "                                   incident_location  incident_acres_burned  \\\n",
      "0  I-5 and Turntable Bay, 7 miles NE of Shasta Lake                    37.0   \n",
      "1        Hwy 76 and Pala Temecula, northwest of Pala                  122.0   \n",
      "2  south of Narrow Gauge Rd & north of Hwy 136, e...                  407.0   \n",
      "3  west of Delamar Mountain, north of the communi...                   30.0   \n",
      "4  Between Road 210 and Road 200 near Fine Gold C...                  274.0   \n",
      "\n",
      "   incident_containment  ... incident_latitude incident_type  \\\n",
      "0                 100.0  ...         40.774000          None   \n",
      "1                 100.0  ...          1.000000      Wildfire   \n",
      "2                 100.0  ...         36.602575          None   \n",
      "3                 100.0  ...         34.288877          None   \n",
      "4                 100.0  ...         37.116295          None   \n",
      "\n",
      "                            incident_id  \\\n",
      "0  2ca11d45-8139-4c16-8af0-880d99b21e82   \n",
      "1  8f61f461-552d-4538-b186-35ab030da416   \n",
      "2  094719ba-a47b-4abb-9ec5-a506b2b9fd23   \n",
      "3  58f89ff8-bd3e-4355-b1c0-8fa05c747d3f   \n",
      "4  357ffc13-bef9-48eb-810f-c5de851972eb   \n",
      "\n",
      "                                        incident_url  \\\n",
      "0  https://www.fire.ca.gov/incidents/2017/10/31/b...   \n",
      "1  https://www.fire.ca.gov/incidents/2009/5/24/pa...   \n",
      "2  https://www.fire.ca.gov/incidents/2013/2/24/ri...   \n",
      "3  https://www.fire.ca.gov/incidents/2013/4/20/fa...   \n",
      "4  https://www.fire.ca.gov/incidents/2013/4/30/go...   \n",
      "\n",
      "  incident_date_extinguished incident_dateonly_extinguished  \\\n",
      "0       2018-01-09T13:46:00Z                     2018-01-09   \n",
      "1       2009-05-25T00:00:00Z                     2009-05-25   \n",
      "2       2013-02-28T20:00:00Z                     2013-02-28   \n",
      "3       2013-04-22T09:00:00Z                     2013-04-22   \n",
      "4       2013-05-01T07:00:00Z                     2013-05-01   \n",
      "\n",
      "  incident_dateonly_created is_active calfire_incident notification_desired  \n",
      "0                2017-10-31         N            False                False  \n",
      "1                2009-05-24         N             True                False  \n",
      "2                2013-02-24         N             True                False  \n",
      "3                2013-04-20         N            False                False  \n",
      "4                2013-04-30         N             True                False  \n",
      "\n",
      "[5 rows x 23 columns]\n"
     ]
    }
   ],
   "source": [
    "con = duckdb.connect(database=\":memory:\")\n",
    "\n",
    "con.execute(\"CREATE TABLE incidents AS SELECT * FROM parquet_scan('01_datasets/01_calfire_incidents.parquet')\")\n",
    "\n",
    "result = con.execute(\"SELECT * FROM incidents LIMIT 5\").fetchdf()\n",
    "print(result)\n"
   ]
  },
  {
   "cell_type": "code",
   "execution_count": 10,
   "metadata": {},
   "outputs": [
    {
     "data": {
      "text/html": [
       "<pre style=\"white-space:pre;overflow-x:auto;line-height:normal;font-family:Menlo,'DejaVu Sans Mono',consolas,'Courier New',monospace\"><span style=\"color: #808000; text-decoration-color: #808000; font-weight: bold\">/var/folders/p7/m480s0s56rb3pl4d11ss4wch0000gn/T/ipykernel_86449/1538362978.py:</span><span style=\"color: #808000; text-decoration-color: #808000; font-weight: bold\">10</span><span style=\"color: #808000; text-decoration-color: #808000; font-weight: bold\"> RemovedInAirflow3Warning</span><span style=\"color: #808000; text-decoration-color: #808000\">: Param `schedule_interval` is deprecated and will be removed in a future release. Please use `schedule` instead.</span>\n",
       "</pre>\n"
      ],
      "text/plain": [
       "\u001b[1;33m/var/folders/p7/m480s0s56rb3pl4d11ss4wch0000gn/T/ipykernel_86449/\u001b[0m\u001b[1;33m1538362978.py\u001b[0m\u001b[1;33m:\u001b[0m\u001b[1;33m10\u001b[0m\u001b[1;33m RemovedInAirflow3Warning\u001b[0m\u001b[33m: Param `schedule_interval` is deprecated and will be removed in a future release. Please use `schedule` instead.\u001b[0m\n"
      ]
     },
     "metadata": {},
     "output_type": "display_data"
    }
   ],
   "source": [
    "def convert_to_parquet():\n",
    "    df = pd.read_csv(\"01_datasets/01_calfire_incidents.csv\")\n",
    "    df.to_parquet(\"01_datasets/01_calfire_incidents.parquet\", engine=\"pyarrow\", index=False)\n",
    "\n",
    "default_args = {\n",
    "    'owner': 'airflow',\n",
    "    'start_date': datetime(2025, 2, 1),\n",
    "}\n",
    "\n",
    "dag = DAG('incident_data_pipeline', default_args=default_args, schedule_interval='@daily')\n",
    "\n",
    "task = PythonOperator(\n",
    "    task_id='convert_csv_to_parquet',\n",
    "    python_callable=convert_to_parquet,\n",
    "    dag=dag\n",
    ")"
   ]
  }
 ],
 "metadata": {
  "kernelspec": {
   "display_name": ".firenv",
   "language": "python",
   "name": "python3"
  },
  "language_info": {
   "codemirror_mode": {
    "name": "ipython",
    "version": 3
   },
   "file_extension": ".py",
   "mimetype": "text/x-python",
   "name": "python",
   "nbconvert_exporter": "python",
   "pygments_lexer": "ipython3",
   "version": "3.11.3"
  }
 },
 "nbformat": 4,
 "nbformat_minor": 2
}
